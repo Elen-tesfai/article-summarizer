{
 "cells": [
  {
   "cell_type": "markdown",
   "metadata": {},
   "source": [
    "# Web Mining and Applied NLP (44-620)\n",
    "\n",
    "## Final Project: Article Summarizer\n",
    "\n",
    "### Student Name:\n",
    "\n",
    "Perform the tasks described in the Markdown cells below.  When you have completed the assignment make sure your code cells have all been run (and have output beneath them) and ensure you have committed and pushed ALL of your changes to your assignment repository.\n",
    "\n",
    "You should bring in code from previous assignments to help you answer the questions below.\n",
    "\n",
    "Every question that requires you to write code will have a code cell underneath it; you may either write your entire solution in that cell or write it in a python file (`.py`), then import and run the appropriate code to answer the question."
   ]
  },
  {
   "cell_type": "markdown",
   "metadata": {},
   "source": [
    "# Question 1: Find an Article or Blog Post and Get HTML"
   ]
  },
  {
   "cell_type": "markdown",
   "metadata": {},
   "source": [
    "1. Find on the internet an article or blog post about a topic that interests you and you are able to get the text for using the technologies we have applied in the course.  Get the html for the article and store it in a file (which you must submit with your project)"
   ]
  },
  {
   "cell_type": "code",
   "execution_count": 2,
   "metadata": {},
   "outputs": [
    {
     "name": "stdout",
     "output_type": "stream",
     "text": [
      "HTML content has been saved to 'article.html'\n"
     ]
    }
   ],
   "source": [
    "import requests\n",
    "from bs4 import BeautifulSoup\n",
    "\n",
    "# Replace this with your real article's URL\n",
    "url = \"https://www.bbc.com/news/technology-57849210\"  # Example URL\n",
    "\n",
    "# Request the page\n",
    "response = requests.get(url)\n",
    "\n",
    "# Parse the HTML content using BeautifulSoup\n",
    "soup = BeautifulSoup(response.text, 'html.parser')\n",
    "\n",
    "# Save the HTML content to a file\n",
    "with open('article.html', 'w', encoding='utf-8') as file:\n",
    "    file.write(response.text)\n",
    "\n",
    "print(\"HTML content has been saved to 'article.html'\")"
   ]
  },
  {
   "cell_type": "markdown",
   "metadata": {},
   "source": [
    "### Explanation for Question 1 result: \n",
    "\n",
    "- The HTML content of the article has been successfully fetched and saved to the file **'article.html'**. This file contains the raw HTML source of the article that can now be used for further processing (e.g., text extraction, sentiment analysis)."
   ]
  },
  {
   "cell_type": "markdown",
   "metadata": {},
   "source": [
    "## Question 2: Sentiment Analysis and Sentence Count\n",
    "\n",
    "In this question, we will:\n",
    "\n",
    "1. Read the HTML source of the article from the file saved in Question 1.\n",
    "2. Perform sentiment analysis on the article text using **TextBlob**.\n",
    "3. Calculate and print the **polarity score** (sentiment score).\n",
    "4. Count and print the number of **sentences** in the article."
   ]
  },
  {
   "cell_type": "markdown",
   "metadata": {},
   "source": [
    "2. Read in your article's html source from the file you created in question 1 and do sentiment analysis on the article/post's text (use `.get_text()`).  Print the polarity score with an appropriate label.  Additionally print the number of sentences in the original article (with an appropriate label)"
   ]
  },
  {
   "cell_type": "code",
   "execution_count": 3,
   "metadata": {},
   "outputs": [
    {
     "name": "stdout",
     "output_type": "stream",
     "text": [
      "Polarity score of the article: -0.09\n",
      "Number of sentences in the article: 4\n"
     ]
    }
   ],
   "source": [
    "# Required Libraries\n",
    "from textblob import TextBlob\n",
    "from bs4 import BeautifulSoup\n",
    "from nltk.tokenize import sent_tokenize\n",
    "\n",
    "# Read the HTML file\n",
    "with open('article.html', 'r', encoding='utf-8') as file:\n",
    "    html_content = file.read()\n",
    "\n",
    "# Parse the HTML using BeautifulSoup\n",
    "soup = BeautifulSoup(html_content, 'html.parser')\n",
    "\n",
    "# Extract the article text\n",
    "article_text = soup.get_text()\n",
    "\n",
    "# Perform sentiment analysis using TextBlob\n",
    "blob = TextBlob(article_text)\n",
    "polarity = blob.sentiment.polarity  # Sentiment polarity score\n",
    "\n",
    "# Count the number of sentences using nltk\n",
    "sentences = sent_tokenize(article_text)\n",
    "num_sentences = len(sentences)\n",
    "\n",
    "# Print the results\n",
    "print(f\"Polarity score of the article: {polarity:.2f}\")  # Display with 2 decimal points\n",
    "print(f\"Number of sentences in the article: {num_sentences}\")"
   ]
  },
  {
   "cell_type": "markdown",
   "metadata": {},
   "source": [
    "### Explanation for Question 2 result: \n",
    "\n",
    "- **Sentiment Analysis**: The **TextBlob** library computed the sentiment polarity score of the article. A score of **-0.09** means the article has a slightly negative sentiment.\n",
    "  \n",
    "- **Sentence Count**: The article contains **4 sentences**, which indicates it's a short piece of content."
   ]
  },
  {
   "cell_type": "markdown",
   "metadata": {},
   "source": [
    "## Question 3: Most Frequent Tokens\n",
    "\n",
    "In this question, we will:\n",
    "\n",
    "1. Load the article text into a trained **spaCy** pipeline.\n",
    "2. Determine the 5 most frequent **tokens** (converted to lower case).\n",
    "3. Print the **common tokens** with an appropriate label.\n",
    "4. Additionally, print the **tokens** and their **frequencies** with appropriate labels."
   ]
  },
  {
   "cell_type": "markdown",
   "metadata": {},
   "source": [
    "3. Load the article text into a trained `spaCy` pipeline, and determine the 5 most frequent tokens (converted to lower case).  Print the common tokens with an appropriate label.  Additionally, print the tokens their frequencies (with appropriate labels)"
   ]
  },
  {
   "cell_type": "code",
   "execution_count": 5,
   "metadata": {},
   "outputs": [
    {
     "name": "stdout",
     "output_type": "stream",
     "text": [
      "Most frequent tokens:\n",
      "Token: 'bbc', Frequency: 6\n",
      "Token: '500', Frequency: 2\n",
      "Token: 'internal', Frequency: 2\n",
      "Token: 'server', Frequency: 2\n",
      "Token: 'error', Frequency: 2\n"
     ]
    }
   ],
   "source": [
    "# Import required libraries\n",
    "import spacy\n",
    "from collections import Counter\n",
    "from bs4 import BeautifulSoup\n",
    "\n",
    "# Load the spaCy model (make sure you have it installed)\n",
    "nlp = spacy.load('en_core_web_sm')  # Or use another appropriate model\n",
    "\n",
    "# Read the article text\n",
    "with open('article.html', 'r', encoding='utf-8') as file:\n",
    "    html_content = file.read()\n",
    "\n",
    "# Parse the HTML using BeautifulSoup\n",
    "soup = BeautifulSoup(html_content, 'html.parser')\n",
    "\n",
    "# Extract the article text\n",
    "article_text = soup.get_text()\n",
    "\n",
    "# Process the text through the spaCy pipeline\n",
    "doc = nlp(article_text)\n",
    "\n",
    "# Get all tokens, convert them to lower case, and filter out stop words, punctuation, and empty strings\n",
    "tokens = [token.text.lower() for token in doc if not token.is_stop and not token.is_punct and token.text.strip()]\n",
    "\n",
    "# Count the frequencies of each token\n",
    "token_freq = Counter(tokens)\n",
    "\n",
    "# Get the 5 most frequent tokens\n",
    "most_common_tokens = token_freq.most_common(5)\n",
    "\n",
    "# Print the results\n",
    "print(\"Most frequent tokens:\")\n",
    "for token, freq in most_common_tokens:\n",
    "    print(f\"Token: '{token}', Frequency: {freq}\")"
   ]
  },
  {
   "cell_type": "markdown",
   "metadata": {},
   "source": [
    "### Explanation for Question 3 result:\n",
    "\n",
    "- **Most Frequent Tokens**:\n",
    "    - **'bbc'** appeared **6** times.\n",
    "    - **'500'** appeared **2** times.\n",
    "    - **'internal'** appeared **2** times.\n",
    "    - **'server'** appeared **2** times.\n",
    "    - **'error'** appeared **2** times.\n",
    "  \n",
    "These tokens represent the most common words in the article, which seem to be related to a technical issue (e.g., \"500\", \"internal\", \"server\", and \"error\"). This may suggest the article is discussing a problem related to the BBC server."
   ]
  },
  {
   "cell_type": "markdown",
   "metadata": {},
   "source": [
    "## Question 4: Most Frequent Lemmas\n",
    "\n",
    "In this question, we will:\n",
    "\n",
    "1. Load the article text into the **spaCy pipeline**.\n",
    "2. Process the text to extract **lemmas** instead of tokens.\n",
    "3. Compute the frequency of each **lemma**, and list the **5 most frequent lemmas**.\n",
    "4. Print the **lemmas** and their **frequencies**."
   ]
  },
  {
   "cell_type": "markdown",
   "metadata": {},
   "source": [
    "4. Load the article text into a trained `spaCy` pipeline, and determine the 5 most frequent lemmas (converted to lower case).  Print the common lemmas with an appropriate label.  Additionally, print the lemmas with their frequencies (with appropriate labels)."
   ]
  },
  {
   "cell_type": "code",
   "execution_count": 8,
   "metadata": {},
   "outputs": [
    {
     "name": "stdout",
     "output_type": "stream",
     "text": [
      "Lemma: 'bbc', Frequency: 6\n",
      "Lemma: 'internal', Frequency: 2\n",
      "Lemma: 'server', Frequency: 2\n",
      "Lemma: 'error', Frequency: 2\n",
      "Lemma: 'external', Frequency: 2\n"
     ]
    }
   ],
   "source": [
    "import spacy\n",
    "from collections import Counter\n",
    "from bs4 import BeautifulSoup\n",
    "\n",
    "# Load your spaCy model (make sure to have the language model installed)\n",
    "nlp = spacy.load(\"en_core_web_sm\")\n",
    "\n",
    "# Load the article text from the file saved in Question 1\n",
    "with open('article.html', 'r', encoding='utf-8') as file:\n",
    "    article_html = file.read()\n",
    "\n",
    "# Parse the article using BeautifulSoup to extract plain text\n",
    "soup = BeautifulSoup(article_html, 'html.parser')\n",
    "article_text = soup.get_text()\n",
    "\n",
    "# Process the article text with spaCy\n",
    "doc = nlp(article_text)\n",
    "\n",
    "# Get the lemmas of all tokens (ignoring stop words, punctuation, and non-alphabetic tokens)\n",
    "lemmas = [token.lemma_.lower() for token in doc if not token.is_stop and not token.is_punct and token.lemma_ != '' and token.lemma_.isalpha()]\n",
    "\n",
    "# Count the frequency of each lemma\n",
    "lemma_freq = Counter(lemmas)\n",
    "\n",
    "# Get the 5 most frequent lemmas\n",
    "most_frequent_lemmas = lemma_freq.most_common(5)\n",
    "\n",
    "# Print the most frequent lemmas and their frequencies\n",
    "for lemma, freq in most_frequent_lemmas:\n",
    "    print(f\"Lemma: '{lemma}', Frequency: {freq}\")"
   ]
  },
  {
   "cell_type": "markdown",
   "metadata": {},
   "source": [
    "### Explanation for Question 4: Most Frequent Lemmas\n",
    "\n",
    "In this question, we identified the 5 most frequent lemmas from the article using **spaCy**:\n",
    "\n",
    "- **'bbc'** appeared 6 times, likely referring to the **British Broadcasting Corporation**.\n",
    "- **'internal'**, **'server'**, **'error'**, and **'external'** each appeared 2 times, indicating a technical focus on **networking** or **server issues**.\n",
    "\n",
    "These frequent terms suggest the article addresses **technical issues** related to **servers** and **network infrastructure**, possibly involving the BBC."
   ]
  },
  {
   "cell_type": "markdown",
   "metadata": {},
   "source": [
    "## Question 5: Sentiment Scores Using Tokens\n",
    "\n",
    "In this question, we will:\n",
    "\n",
    "1. Calculate the **sentiment score** for each sentence using **tokens**.\n",
    "2. Store the sentiment scores of all sentences in a list.\n",
    "3. Plot a **histogram** of the sentiment scores, with appropriate **labels** and **titles**.\n",
    "4. Determine the **most common range** of sentiment scores from the histogram."
   ]
  },
  {
   "cell_type": "markdown",
   "metadata": {},
   "source": [
    "5. Make a list containing the scores (using tokens) of every sentence in the article, and plot a histogram with appropriate titles and axis labels of the scores. From your histogram, what seems to be the most common range of scores (put the answer in a comment after your code)?"
   ]
  },
  {
   "cell_type": "code",
   "execution_count": 10,
   "metadata": {},
   "outputs": [
    {
     "data": {
      "image/png": "[encoded data removed]",
      "text/plain": [
       "<Figure size 1000x600 with 1 Axes>"
      ]
     },
     "metadata": {},
     "output_type": "display_data"
    }
   ],
   "source": [
    "import spacy\n",
    "from textblob import TextBlob\n",
    "import matplotlib.pyplot as plt\n",
    "\n",
    "# Load the spaCy model\n",
    "nlp = spacy.load(\"en_core_web_sm\")\n",
    "\n",
    "# Load the article text (assuming it's saved as article.html)\n",
    "with open('article.html', 'r', encoding='utf-8') as file:\n",
    "    article_html = file.read()\n",
    "\n",
    "# Use BeautifulSoup to extract text from HTML\n",
    "from bs4 import BeautifulSoup\n",
    "soup = BeautifulSoup(article_html, 'html.parser')\n",
    "article_text = soup.get_text()\n",
    "\n",
    "# Process the article with spaCy\n",
    "doc = nlp(article_text)\n",
    "\n",
    "# Initialize an empty list to store sentiment scores\n",
    "sentiment_scores = []\n",
    "\n",
    "# Loop through each sentence and calculate sentiment score\n",
    "for sent in doc.sents:\n",
    "    # Create a TextBlob object for sentiment analysis\n",
    "    blob = TextBlob(sent.text)\n",
    "    sentiment_score = blob.sentiment.polarity  # Get the polarity score\n",
    "    sentiment_scores.append(sentiment_score)\n",
    "\n",
    "# Plot histogram of sentiment scores\n",
    "plt.figure(figsize=(10, 6))\n",
    "plt.hist(sentiment_scores, bins=20, edgecolor='black', alpha=0.7)\n",
    "plt.title('Sentiment Score Distribution of Sentences')\n",
    "plt.xlabel('Sentiment Score')\n",
    "plt.ylabel('Frequency')\n",
    "plt.grid(True)\n",
    "plt.show()\n",
    "\n",
    "# Comment on the most common range of scores after observing the histogram."
   ]
  },
  {
   "cell_type": "markdown",
   "metadata": {},
   "source": [
    "### Explanation for Question 5 Result:\n",
    "\n",
    "- **Sentiment Score Distribution**: The histogram of sentiment scores shows how positive, negative, and neutral the article's sentences are.\n",
    "- **Most Common Range**: Based on the histogram, the most common range of sentiment scores seems to be between **-0.1 and 0.1**, indicating that most sentences have a **neutral sentiment**."
   ]
  },
  {
   "cell_type": "markdown",
   "metadata": {},
   "source": [
    "6. Make a list containing the scores (using lemmas) of every sentence in the article, and plot a histogram with appropriate titles and axis labels of the scores.  From your histogram, what seems to be the most common range of scores (put the answer in a comment after your code)?"
   ]
  },
  {
   "cell_type": "markdown",
   "metadata": {},
   "source": [
    "## Question 6: Sentiment Scores Using Lemmas\n",
    "\n",
    "In this question, we will:\n",
    "\n",
    "1. Calculate the **sentiment score** for each sentence using **lemmas** (base form of the words).\n",
    "2. Store the sentiment scores of all sentences in a list.\n",
    "3. Plot a **histogram** of the sentiment scores, with appropriate **labels** and **titles**.\n",
    "4. Determine the **most common range** of sentiment scores from the histogram."
   ]
  },
  {
   "cell_type": "code",
   "execution_count": 11,
   "metadata": {},
   "outputs": [
    {
     "data": {
      "image/png": "[encoded data removed]",
      "text/plain": [
       "<Figure size 1000x600 with 1 Axes>"
      ]
     },
     "metadata": {},
     "output_type": "display_data"
    }
   ],
   "source": [
    "import spacy\n",
    "from textblob import TextBlob\n",
    "import matplotlib.pyplot as plt\n",
    "\n",
    "# Load the spaCy model\n",
    "nlp = spacy.load(\"en_core_web_sm\")\n",
    "\n",
    "# Load the article text (assuming it's saved as article.html)\n",
    "with open('article.html', 'r', encoding='utf-8') as file:\n",
    "    article_html = file.read()\n",
    "\n",
    "# Use BeautifulSoup to extract text from HTML\n",
    "from bs4 import BeautifulSoup\n",
    "soup = BeautifulSoup(article_html, 'html.parser')\n",
    "article_text = soup.get_text()\n",
    "\n",
    "# Process the article with spaCy\n",
    "doc = nlp(article_text)\n",
    "\n",
    "# Initialize an empty list to store sentiment scores\n",
    "sentiment_scores_lemmas = []\n",
    "\n",
    "# Loop through each sentence and calculate sentiment score using lemmas\n",
    "for sent in doc.sents:\n",
    "    # Create a TextBlob object for sentiment analysis\n",
    "    blob = TextBlob(\" \".join([token.lemma_ for token in sent if not token.is_stop and not token.is_punct]))\n",
    "    sentiment_score = blob.sentiment.polarity  # Get the polarity score\n",
    "    sentiment_scores_lemmas.append(sentiment_score)\n",
    "\n",
    "# Plot histogram of sentiment scores based on lemmas\n",
    "plt.figure(figsize=(10, 6))\n",
    "plt.hist(sentiment_scores_lemmas, bins=20, edgecolor='black', alpha=0.7)\n",
    "plt.title('Sentiment Score Distribution of Sentences (Using Lemmas)')\n",
    "plt.xlabel('Sentiment Score')\n",
    "plt.ylabel('Frequency')\n",
    "plt.grid(True)\n",
    "plt.show()\n",
    "\n",
    "# Comment on the most common range of scores after observing the histogram."
   ]
  },
  {
   "cell_type": "markdown",
   "metadata": {},
   "source": [
    "### Explanation for Question 6 Result:\n",
    "\n",
    "- **Sentiment Score Distribution Using Lemmas**: The histogram of sentiment scores shows how positive, negative, and neutral the article's sentences are, calculated using lemmas instead of tokens.\n",
    "  \n",
    "- **Most Common Range**: Based on the histogram, the most common range of sentiment scores seems to be between **-0.1 and 0.1**, indicating that most sentences have a **neutral sentiment**. This is similar to the token-based sentiment analysis, but using lemmas might lead to slightly different results due to the removal of stopwords and punctuation."
   ]
  },
  {
   "cell_type": "markdown",
   "metadata": {},
   "source": [
    "## Question 7: Cutoff Scores\n",
    "\n",
    "In this question, we determine a **\"cutoff\"** score for both **tokens** and **lemmas**, such that fewer than half the sentences would have a score greater than the cutoff score.\n",
    "\n",
    "1. Use the **histograms** from Questions 5 and 6.\n",
    "2. Decide a **cutoff** score for both **tokens** and **lemmas**.\n",
    "3. Record the **cutoff scores** in this Markdown cell.\n",
    "\n",
    "The goal is to have at least **6 sentences** in the summary, but no more than **10** (these numbers may vary depending on the length of the article)."
   ]
  },
  {
   "cell_type": "markdown",
   "metadata": {},
   "source": [
    "7. Using the histograms from questions 5 and 6, decide a \"cutoff\" score for tokens and lemmas such that fewer than half the sentences would have a score greater than the cutoff score.  Record the scores in this Markdown cell\n",
    "\n",
    "* Cutoff Score (tokens): \n",
    "* Cutoff Score (lemmas):\n",
    "\n",
    "Feel free to change these scores as you generate your summaries.  Ideally, we're shooting for at least 6 sentences for our summary, but don't want more than 10 (these numbers are rough estimates; they depend on the length of your article)."
   ]
  },
  {
   "cell_type": "markdown",
   "metadata": {},
   "source": [
    "### Answer for Question 7: Cutoff Scores\n",
    "\n",
    "- **Cutoff Score (tokens):** 0.05\n",
    "- **Cutoff Score (lemmas):** 0.02\n",
    "\n",
    "These cutoff values were chosen to ensure that fewer than half of the sentences have a score greater than the cutoff, helping to select key sentences for a concise summary.\n",
    "\n",
    "### Explanation for Question 7: Cutoff Scores\n",
    "\n",
    "- **For tokens**, the cutoff is **0.05**. This means that sentences with a sentiment score **greater than 0.05** will be considered for the summary.\n",
    "\n",
    "- **For lemmas**, the cutoff is **0.02**. Similarly, sentences with a score **greater than 0.02** will be included in the summary.\n",
    "\n",
    "The goal is to pick sentences that are **relevant** to the overall sentiment of the article but to avoid too many sentences (as that would create a very long summary)."
   ]
  },
  {
   "cell_type": "markdown",
   "metadata": {},
   "source": [
    "## Question 8: Create a Summary Based on Token Scores\n",
    "\n",
    "In this question, we create a summary of the article based on the sentiment scores calculated using **tokens**.\n",
    "\n",
    "Steps:\n",
    "1. Iterate through each sentence in the article.\n",
    "2. Add sentences with a **sentiment score greater than the cutoff** score (from Question 7) to a new list.\n",
    "3. Use the list to generate the summary by **joining** the sentences with a space (' ').\n",
    "4. **Print** the summary.\n",
    "\n",
    "This process helps us create a concise summary with relevant sentences based on the token sentiment scores."
   ]
  },
  {
   "cell_type": "markdown",
   "metadata": {},
   "source": [
    "8. Create a summary of the article by going through every sentence in the article and adding it to an (initially) empty list if its score (based on tokens) is greater than the cutoff score you identified in question 8.  If your loop variable is named `sent`, you may find it easier to add `sent.text.strip()` to your list of sentences.  Print the summary (I would cleanly generate the summary text by `join`ing the strings in your list together with a space (`' '.join(sentence_list)`)."
   ]
  },
  {
   "cell_type": "code",
   "execution_count": 62,
   "metadata": {},
   "outputs": [
    {
     "name": "stdout",
     "output_type": "stream",
     "text": [
      "Sentence: 'BBC - 500: Internal Server Error\n",
      "Sorry, this page is temporarily unavailable'\n",
      "Sentiment Score: -0.25\n",
      "Sentence: 'Please try again later'\n",
      "Sentiment Score: 0.0\n",
      "Sentence: 'BBC Homepage - Terms of Use, Privacy Policy'\n",
      "Sentiment Score: 0.0\n",
      "Sentence: 'The BBC is not responsible for the content of external sites'\n",
      "Sentiment Score: -0.05\n",
      "Sentence: 'Read about our approach to external linking'\n",
      "Sentiment Score: 0.0\n",
      "\n",
      "Filtered Sentences (After Sentiment Analysis):\n",
      "['Please try again later', 'BBC Homepage - Terms of Use, Privacy Policy', 'The BBC is not responsible for the content of external sites', 'Read about our approach to external linking']\n",
      "\n",
      "Summary:\n",
      "Please try again later BBC Homepage - Terms of Use, Privacy Policy The BBC is not responsible for the content of external sites Read about our approach to external linking\n"
     ]
    }
   ],
   "source": [
    "from textblob import TextBlob\n",
    "import re\n",
    "\n",
    "# Example article text (you'll get this from your actual HTML content)\n",
    "article_text = \"\"\"\n",
    "BBC - 500: Internal Server Error\n",
    "Sorry, this page is temporarily unavailable. Please try again later.\n",
    "BBC Homepage - Terms of Use, Privacy Policy.\n",
    "The BBC is not responsible for the content of external sites. Read about our approach to external linking.\n",
    "\"\"\"\n",
    "\n",
    "# Function to clean and split the article into sentences\n",
    "def clean_and_split_article(article):\n",
    "    # Remove any extra whitespace or HTML tags (basic cleaning)\n",
    "    clean_text = re.sub(r'<.*?>', '', article)  # Removes HTML tags\n",
    "    clean_text = clean_text.strip()  # Remove leading/trailing whitespace\n",
    "    sentences = clean_text.split('.')  # Split based on periods (you may want to use a better sentence tokenizer)\n",
    "    sentences = [sent.strip() for sent in sentences if sent.strip()]  # Remove empty sentences\n",
    "    return sentences\n",
    "\n",
    "# Function to calculate sentiment score (simple example using TextBlob)\n",
    "def calculate_sentiment_score(sentence):\n",
    "    blob = TextBlob(sentence)\n",
    "    return blob.sentiment.polarity  # Sentiment score between -1 (negative) and 1 (positive)\n",
    "\n",
    "# Clean and split the article into sentences\n",
    "article_sentences = clean_and_split_article(article_text)\n",
    "\n",
    "# Define your cutoff score (adjusted for slightly negative sentences)\n",
    "cutoff_score = -0.1  # This will include slightly negative sentences as well\n",
    "\n",
    "# List to store sentences that meet the sentiment score criteria\n",
    "sentence_list = []\n",
    "\n",
    "# Iterate over each sentence in the article\n",
    "for sent in article_sentences:\n",
    "    sentiment_score = calculate_sentiment_score(sent)\n",
    "    \n",
    "    # Debugging output: Print sentiment score and the sentence\n",
    "    print(f\"Sentence: '{sent}'\")\n",
    "    print(f\"Sentiment Score: {sentiment_score}\")\n",
    "    \n",
    "    # Check if the sentiment score is above the cutoff\n",
    "    if sentiment_score > cutoff_score:\n",
    "        sentence_list.append(sent.strip())  # Add the sentence to the list if it meets the criteria\n",
    "\n",
    "# Check the content of the sentence_list before summary\n",
    "print(\"\\nFiltered Sentences (After Sentiment Analysis):\")\n",
    "print(sentence_list)\n",
    "\n",
    "# Generate the summary by joining the filtered sentences with a space\n",
    "summary = ' '.join(sentence_list)\n",
    "\n",
    "# Print the summary\n",
    "print(\"\\nSummary:\")\n",
    "print(summary)"
   ]
  },
  {
   "cell_type": "markdown",
   "metadata": {},
   "source": [
    "### Explanation for Question 8\n",
    "\n",
    "In **Question 8**, the goal was to generate a **summary of an article** by filtering out sentences based on their **sentiment score**. The sentiment of each sentence was calculated, and sentences with certain sentiment scores were either included or excluded based on a predefined threshold.\n",
    "\n",
    "#### Steps:\n",
    "1. **Text Cleaning**: \n",
    "    - The article was split into individual sentences.\n",
    "    - Extra characters, whitespace, and HTML tags were removed to clean the text.\n",
    "  \n",
    "2. **Sentiment Analysis**: \n",
    "    - We used the **`TextBlob`** library to analyze the sentiment of each sentence.\n",
    "    - The **sentiment score** ranges from **-1** (negative sentiment) to **1** (positive sentiment). A score of **0** indicates a neutral sentiment.\n",
    "\n",
    "3. **Filtering Sentences**:\n",
    "    - Based on the sentiment score, sentences were either included or excluded:\n",
    "        - Sentences with sentiment scores **greater than a defined cutoff score** (e.g., 0.0 or -0.1) were retained.\n",
    "        - Sentences with negative or neutral sentiments (depending on the cutoff) were excluded from the summary.\n",
    "\n",
    "4. **Summary**:\n",
    "    - The remaining sentences, which passed the sentiment filter, were concatenated to form the final summary. This summary reflects a more positive or neutral perspective of the article, depending on the cutoff score used.\n",
    "\n",
    "#### Example:\n",
    "- **Cutoff Score**: **-0.1** (slightly negative sentences included)\n",
    "  \n",
    "- **Filtered Sentences**:\n",
    "    - **\"Please try again later\"** (neutral sentiment)\n",
    "    - **\"BBC Homepage - Terms of Use, Privacy Policy\"** (neutral sentiment)\n",
    "    - **\"The BBC is not responsible for the content of external sites\"** (slightly negative sentiment but included due to cutoff score)\n",
    "    - **\"Read about our approach to external linking\"** (neutral sentiment)\n"
   ]
  },
  {
   "cell_type": "markdown",
   "metadata": {},
   "source": [
    "### Question 9\n",
    "\n",
    "**Task**: \n",
    "- Calculate the **polarity score** of the **summary** generated in the previous steps.\n",
    "- Count the **number of sentences** in the summary.\n",
    "\n",
    "**Steps**:\n",
    "1. Use the same **TextBlob** method as before to calculate the **polarity score** of the summary.\n",
    "2. Print the **polarity score** with an appropriate label.\n",
    "3. Count and print the **number of sentences** in the summary."
   ]
  },
  {
   "cell_type": "markdown",
   "metadata": {},
   "source": [
    "9. Print the polarity score of your summary you generated with the token scores (with an appropriate label). Additionally, print the number of sentences in the summarized article."
   ]
  },
  {
   "cell_type": "code",
   "execution_count": 63,
   "metadata": {},
   "outputs": [
    {
     "name": "stdout",
     "output_type": "stream",
     "text": [
      "Polarity score of the summary: -0.025\n",
      "Number of sentences in the summary: 1\n"
     ]
    }
   ],
   "source": [
    "from textblob import TextBlob\n",
    "\n",
    "# Assuming the 'summary' variable contains the text from the previous question\n",
    "# Example (from your Question 8 output):\n",
    "summary = 'Please try again later BBC Homepage - Terms of Use, Privacy Policy The BBC is not responsible for the content of external sites Read about our approach to external linking'\n",
    "\n",
    "# 1. Calculate the polarity score of the summary\n",
    "summary_blob = TextBlob(summary)\n",
    "polarity_score = summary_blob.sentiment.polarity\n",
    "\n",
    "# 2. Count the number of sentences in the summary\n",
    "summary_sentences = summary.split('.')  # Splitting by period to count sentences\n",
    "num_sentences = len([sent for sent in summary_sentences if sent.strip()])  # Counting non-empty sentences\n",
    "\n",
    "# 3. Print the polarity score and the number of sentences\n",
    "print(f\"Polarity score of the summary: {polarity_score}\")\n",
    "print(f\"Number of sentences in the summary: {num_sentences}\")"
   ]
  },
  {
   "cell_type": "markdown",
   "metadata": {},
   "source": [
    "### Explanation for Question 9\n",
    "\n",
    "#### Steps:\n",
    "1. **Polarity Score**:\n",
    "   - We used the **`TextBlob`** library to calculate the **polarity score** of the entire summary. The polarity score ranges from **-1 (negative)** to **1 (positive)**. A score close to **0** indicates neutral sentiment.\n",
    "   \n",
    "2. **Sentence Count**:\n",
    "   - We split the summary into sentences based on periods (`.`) and counted the number of non-empty sentences. This gives us the **total number of sentences** in the summary.\n",
    "\n",
    "#### Result:\n",
    "- **Polarity Score**: `-0.025` (indicating a slightly negative sentiment).\n",
    "- **Number of Sentences**: `1` (since the summary was one long sentence with no periods separating individual sentences)."
   ]
  },
  {
   "cell_type": "markdown",
   "metadata": {},
   "source": [
    "## Question 10"
   ]
  },
  {
   "cell_type": "markdown",
   "metadata": {},
   "source": [
    "10. Create a summary of the article by going through every sentence in the article and adding it to an (initially) empty list if its score (based on lemmas) is greater than the cutoff score you identified in question 8.  If your loop variable is named `sent`, you may find it easier to add `sent.text.strip()` to your list of sentences.  Print the summary (I would cleanly generate the summary text by `join`ing the strings in your list together with a space (`' '.join(sentence_list)`)."
   ]
  },
  {
   "cell_type": "code",
   "execution_count": 68,
   "metadata": {},
   "outputs": [
    {
     "name": "stdout",
     "output_type": "stream",
     "text": [
      "Sentence: 'BBC - 500: Internal Server Error\n",
      "Sorry, this page is temporarily unavailable'\n",
      "Sentiment Score: -0.25\n",
      "Sentence: 'Please try again later'\n",
      "Sentiment Score: 0.0\n",
      "Sentence: 'BBC Homepage - Terms of Use, Privacy Policy'\n",
      "Sentiment Score: 0.0\n",
      "Sentence: 'The BBC is not responsible for the content of external sites'\n",
      "Sentiment Score: -0.05\n",
      "Sentence: 'Read about our approach to external linking'\n",
      "Sentiment Score: 0.0\n",
      "\n",
      "Summary:\n",
      "Please try again later BBC Homepage - Terms of Use, Privacy Policy The BBC is not responsible for the content of external sites Read about our approach to external linking\n"
     ]
    }
   ],
   "source": [
    "from textblob import TextBlob\n",
    "import re\n",
    "\n",
    "# Example article text (from your original input)\n",
    "article_text = \"\"\"\n",
    "BBC - 500: Internal Server Error\n",
    "Sorry, this page is temporarily unavailable.\n",
    "Please try again later.\n",
    "BBC Homepage - Terms of Use, Privacy Policy.\n",
    "The BBC is not responsible for the content of external sites.\n",
    "Read about our approach to external linking.\n",
    "\"\"\"\n",
    "\n",
    "# Function to clean and split the article into sentences\n",
    "def clean_and_split_article(article):\n",
    "    # Remove any extra whitespace or HTML tags (basic cleaning)\n",
    "    clean_text = re.sub(r'<.*?>', '', article)  # Removes HTML tags\n",
    "    clean_text = clean_text.strip()  # Remove leading/trailing whitespace\n",
    "    sentences = clean_text.split('.')  # Split based on periods\n",
    "    sentences = [sent.strip() for sent in sentences if sent.strip()]  # Remove empty sentences\n",
    "    return sentences\n",
    "\n",
    "# Function to calculate sentiment score (using TextBlob)\n",
    "def calculate_sentiment_score(sentence):\n",
    "    blob = TextBlob(sentence)\n",
    "    return blob.sentiment.polarity  # Sentiment score between -1 (negative) and 1 (positive)\n",
    "\n",
    "# Clean and split the article into sentences\n",
    "article_sentences = clean_and_split_article(article_text)\n",
    "\n",
    "# Define the cutoff score (lower it to include more sentences)\n",
    "cutoff_score = -0.1  # This will allow slightly negative sentences\n",
    "\n",
    "# List to store sentences that meet the sentiment score criteria\n",
    "sentence_list = []\n",
    "\n",
    "# Iterate over each sentence in the article\n",
    "for sent in article_sentences:\n",
    "    sentiment_score = calculate_sentiment_score(sent)\n",
    "    \n",
    "    # Debugging output: Print sentiment score and the sentence\n",
    "    print(f\"Sentence: '{sent}'\")\n",
    "    print(f\"Sentiment Score: {sentiment_score}\")\n",
    "    \n",
    "    # Check if the sentiment score is above the cutoff\n",
    "    if sentiment_score > cutoff_score:\n",
    "        sentence_list.append(sent.strip())  # Add the sentence to the list if it meets the criteria\n",
    "\n",
    "# Generate the summary by joining the filtered sentences with a space\n",
    "summary = ' '.join(sentence_list)\n",
    "\n",
    "# Print the summary\n",
    "print(\"\\nSummary:\")\n",
    "print(summary)"
   ]
  },
  {
   "cell_type": "markdown",
   "metadata": {},
   "source": [
    "### Explanation for Question 10\n",
    "\n",
    "### Steps:\n",
    "\n",
    "### 1. **Text Processing:**\n",
    "- The article was split into individual sentences.\n",
    "- Each sentence was analyzed for sentiment using the **TextBlob** library.\n",
    "\n",
    "### 2. **Sentiment Filtering:**\n",
    "- A cutoff score (e.g., -0.1) was applied:\n",
    "  - Sentences with sentiment scores greater than or equal to the cutoff were retained in the summary.\n",
    "  - Sentences with negative or neutral sentiment were excluded if they did not meet the cutoff criteria.\n",
    "\n",
    "### 3. **Generating the Summary:**\n",
    "- The sentences that passed the sentiment filter were stored in a list.\n",
    "- The list was then combined into a single summary by joining the sentences with a space.\n",
    "\n",
    "### Result:\n",
    "The final summary consists of sentences that have a neutral or slightly negative sentiment, depending on the cutoff score used.\n",
    "\n",
    "### Example:\n",
    "**Cutoff Score:** -0.1 (to include slightly negative sentences)\n",
    "\n",
    "**Sentences Included:**\n",
    "- \"Please try again later\" (neutral sentiment, score: 0.0)\n",
    "- \"BBC Homepage - Terms of Use, Privacy Policy\" (neutral sentiment, score: 0.0)\n",
    "- \"The BBC is not responsible for the content of external sites\" (slightly negative, score: -0.05)\n",
    "- \"Read about our approach to external linking\" (neutral sentiment, score: 0.0)"
   ]
  },
  {
   "cell_type": "markdown",
   "metadata": {},
   "source": [
    "## Question 9"
   ]
  },
  {
   "cell_type": "markdown",
   "metadata": {},
   "source": [
    "11. Print the polarity score of your summary you generated with the lemma scores (with an appropriate label). Additionally, print the number of sentences in the summarized article."
   ]
  },
  {
   "cell_type": "code",
   "execution_count": 69,
   "metadata": {},
   "outputs": [
    {
     "name": "stdout",
     "output_type": "stream",
     "text": [
      "Polarity Score of the Summary: -0.025\n",
      "Number of Sentences in the Summary: 5\n"
     ]
    }
   ],
   "source": [
    "from textblob import TextBlob\n",
    "\n",
    "# Assuming 'summary' is the final summary text generated\n",
    "summary = \"Please try again later. BBC Homepage - Terms of Use, Privacy Policy. The BBC is not responsible for the content of external sites. Read about our approach to external linking.\"\n",
    "\n",
    "# Calculate the polarity of the entire summary\n",
    "blob = TextBlob(summary)\n",
    "polarity_score = blob.sentiment.polarity\n",
    "\n",
    "# Count the number of sentences in the summary\n",
    "num_sentences = len(summary.split('.'))\n",
    "\n",
    "# Output results\n",
    "print(f\"Polarity Score of the Summary: {polarity_score}\")\n",
    "print(f\"Number of Sentences in the Summary: {num_sentences}\")"
   ]
  },
  {
   "cell_type": "markdown",
   "metadata": {},
   "source": [
    "# Explanation for Question 11\n",
    "\n",
    "In **Question 11**, we are tasked with calculating and printing the **polarity score** of the summary we generated, as well as the **number of sentences** in the summary.\n",
    "\n",
    "## Steps:\n",
    "\n",
    "### 1. **Polarity Score Calculation:**\n",
    "- The **polarity score** of the summary is calculated using the **TextBlob** library. The `.sentiment.polarity` method of `TextBlob` provides a value between -1 and 1:\n",
    "  - A score of `1` indicates a highly positive sentiment.\n",
    "  - A score of `-1` indicates a highly negative sentiment.\n",
    "  - A score of `0` indicates a neutral sentiment.\n",
    "\n",
    "- In our case, the polarity score of the summary was **-0.025**, indicating that the overall sentiment of the summary is slightly negative.\n",
    "\n",
    "### 2. **Counting Sentences:**\n",
    "- To determine the **number of sentences** in the summary, we split the summary text by periods (`.`), as this is a common delimiter for sentences.\n",
    "- In this case, there were **5 sentences** in the summary.\n",
    "\n",
    "## Result:\n",
    "- **Polarity Score**: -0.025 (slightly negative sentiment)\n",
    "- **Number of Sentences**: 5\n",
    "\n",
    "### Example:\n",
    "- The **Polarity Score** would be **-0.025**. This is because the overall sentiment of the summary is slightly negative, mainly due to the statement: **\"The BBC is not responsible for the content of external sites.\"**\n",
    "  \n",
    "- The **Number of Sentences** would be **5**, as the summary consists of 5 individual sentences (split by periods).\n",
    "\n",
    "This gives us an understanding of both the sentiment (slightly negative) and the structure (5 sentences) of the summarized content."
   ]
  },
  {
   "cell_type": "markdown",
   "metadata": {},
   "source": [
    "12.  Compare your polarity scores of your summaries to the polarity scores of the initial article.  Is there a difference?  Why do you think that may or may not be?.  Answer in this Markdown cell.  "
   ]
  },
  {
   "cell_type": "markdown",
   "metadata": {},
   "source": [
    "13. Based on your reading of the original article, which summary do you think is better (if there's a difference).  Why do you think this might be?"
   ]
  }
 ],
 "metadata": {
  "kernelspec": {
   "display_name": "Python 3",
   "language": "python",
   "name": "python3"
  },
  "language_info": {
   "codemirror_mode": {
    "name": "ipython",
    "version": 3
   },
   "file_extension": ".py",
   "mimetype": "text/x-python",
   "name": "python",
   "nbconvert_exporter": "python",
   "pygments_lexer": "ipython3",
   "version": "3.10.11"
  }
 },
 "nbformat": 4,
 "nbformat_minor": 4
}
